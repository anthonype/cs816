{
 "cells": [
  {
   "cell_type": "code",
   "execution_count": 208,
   "metadata": {},
   "outputs": [],
   "source": [
    "import pandas as pd \n",
    "import numpy as np\n",
    "import folium\n",
    "import folium.plugins as plugins\n",
    "from folium.plugins import HeatMapWithTime\n",
    "from folium.plugins import HeatMap"
   ]
  },
  {
   "cell_type": "code",
   "execution_count": 191,
   "metadata": {
    "scrolled": true
   },
   "outputs": [],
   "source": [
    "# load data\n",
    "mv_df = pd.read_csv('..\\data\\Motor_Vehicle_Collisions_-_Crashes.csv') \n"
   ]
  },
  {
   "cell_type": "code",
   "execution_count": 193,
   "metadata": {
    "scrolled": true
   },
   "outputs": [
    {
     "data": {
      "text/plain": [
       "(1604018, 29)"
      ]
     },
     "execution_count": 193,
     "metadata": {},
     "output_type": "execute_result"
    }
   ],
   "source": [
    "mv_df.shape"
   ]
  },
  {
   "cell_type": "code",
   "execution_count": 197,
   "metadata": {},
   "outputs": [
    {
     "data": {
      "text/plain": [
       "(1407808, 29)"
      ]
     },
     "execution_count": 197,
     "metadata": {},
     "output_type": "execute_result"
    }
   ],
   "source": [
    "# Drop nulls\n",
    "mv_df = mv_df.dropna(subset=['LATITUDE','LONGITUDE'])\n",
    "mv_df.shape"
   ]
  },
  {
   "cell_type": "code",
   "execution_count": 198,
   "metadata": {},
   "outputs": [
    {
     "data": {
      "text/plain": [
       "(339271, 29)"
      ]
     },
     "execution_count": 198,
     "metadata": {},
     "output_type": "execute_result"
    }
   ],
   "source": [
    "# filter on Brooklyn \n",
    "bk_df = mv_df[(mv_df.BOROUGH == 'BROOKLYN')]\n",
    "bk_df.shape"
   ]
  },
  {
   "cell_type": "code",
   "execution_count": 221,
   "metadata": {
    "scrolled": true
   },
   "outputs": [
    {
     "data": {
      "text/plain": [
       "(592, 29)"
      ]
     },
     "execution_count": 221,
     "metadata": {},
     "output_type": "execute_result"
    }
   ],
   "source": [
    "peds_killed = bk_df['NUMBER OF PEDESTRIANS KILLED'] >= 1\n",
    "pers_killed = bk_df['NUMBER OF PERSONS KILLED'] >= 1\n",
    "pers_injured = mv_df['NUMBER OF PEDESTRIANS INJURED'] >= 1\n",
    "pdk = bk_df.loc[peds_killed]\n",
    "psk = bk_df.loc[pers_killed]\n",
    "psi = bk_df.loc[pers_injured]\n",
    "t= pdk.append(psk)\n",
    "t.shape"
   ]
  },
  {
   "cell_type": "code",
   "execution_count": 222,
   "metadata": {},
   "outputs": [
    {
     "data": {
      "text/html": [
       "<div>\n",
       "<style scoped>\n",
       "    .dataframe tbody tr th:only-of-type {\n",
       "        vertical-align: middle;\n",
       "    }\n",
       "\n",
       "    .dataframe tbody tr th {\n",
       "        vertical-align: top;\n",
       "    }\n",
       "\n",
       "    .dataframe thead th {\n",
       "        text-align: right;\n",
       "    }\n",
       "</style>\n",
       "<table border=\"1\" class=\"dataframe\">\n",
       "  <thead>\n",
       "    <tr style=\"text-align: right;\">\n",
       "      <th></th>\n",
       "      <th>ACCIDENT DATE</th>\n",
       "      <th>ACCIDENT TIME</th>\n",
       "      <th>BOROUGH</th>\n",
       "      <th>ZIP CODE</th>\n",
       "      <th>LATITUDE</th>\n",
       "      <th>LONGITUDE</th>\n",
       "      <th>LOCATION</th>\n",
       "      <th>ON STREET NAME</th>\n",
       "      <th>CROSS STREET NAME</th>\n",
       "      <th>OFF STREET NAME</th>\n",
       "      <th>...</th>\n",
       "      <th>CONTRIBUTING FACTOR VEHICLE 2</th>\n",
       "      <th>CONTRIBUTING FACTOR VEHICLE 3</th>\n",
       "      <th>CONTRIBUTING FACTOR VEHICLE 4</th>\n",
       "      <th>CONTRIBUTING FACTOR VEHICLE 5</th>\n",
       "      <th>COLLISION_ID</th>\n",
       "      <th>VEHICLE TYPE CODE 1</th>\n",
       "      <th>VEHICLE TYPE CODE 2</th>\n",
       "      <th>VEHICLE TYPE CODE 3</th>\n",
       "      <th>VEHICLE TYPE CODE 4</th>\n",
       "      <th>VEHICLE TYPE CODE 5</th>\n",
       "    </tr>\n",
       "  </thead>\n",
       "  <tbody>\n",
       "    <tr>\n",
       "      <th>1</th>\n",
       "      <td>04/27/2019</td>\n",
       "      <td>5:20</td>\n",
       "      <td>BROOKLYN</td>\n",
       "      <td>11235</td>\n",
       "      <td>40.592213</td>\n",
       "      <td>-73.932556</td>\n",
       "      <td>POINT (-73.932556 40.592213)</td>\n",
       "      <td>NaN</td>\n",
       "      <td>NaN</td>\n",
       "      <td>2501      KNAPP STREET</td>\n",
       "      <td>...</td>\n",
       "      <td>Unspecified</td>\n",
       "      <td>NaN</td>\n",
       "      <td>NaN</td>\n",
       "      <td>NaN</td>\n",
       "      <td>4122270</td>\n",
       "      <td>Sedan</td>\n",
       "      <td>Sedan</td>\n",
       "      <td>NaN</td>\n",
       "      <td>NaN</td>\n",
       "      <td>NaN</td>\n",
       "    </tr>\n",
       "    <tr>\n",
       "      <th>6</th>\n",
       "      <td>04/02/2019</td>\n",
       "      <td>11:00</td>\n",
       "      <td>BROOKLYN</td>\n",
       "      <td>11221</td>\n",
       "      <td>40.686390</td>\n",
       "      <td>-73.942470</td>\n",
       "      <td>POINT (-73.94247 40.68639)</td>\n",
       "      <td>NaN</td>\n",
       "      <td>NaN</td>\n",
       "      <td>404       MONROE STREET</td>\n",
       "      <td>...</td>\n",
       "      <td>Unspecified</td>\n",
       "      <td>NaN</td>\n",
       "      <td>NaN</td>\n",
       "      <td>NaN</td>\n",
       "      <td>4107489</td>\n",
       "      <td>Sedan</td>\n",
       "      <td>NaN</td>\n",
       "      <td>NaN</td>\n",
       "      <td>NaN</td>\n",
       "      <td>NaN</td>\n",
       "    </tr>\n",
       "    <tr>\n",
       "      <th>12</th>\n",
       "      <td>04/12/2019</td>\n",
       "      <td>14:00</td>\n",
       "      <td>BROOKLYN</td>\n",
       "      <td>11203</td>\n",
       "      <td>40.654102</td>\n",
       "      <td>-73.930660</td>\n",
       "      <td>POINT (-73.93066 40.654102)</td>\n",
       "      <td>NaN</td>\n",
       "      <td>NaN</td>\n",
       "      <td>790       UTICA AVENUE</td>\n",
       "      <td>...</td>\n",
       "      <td>NaN</td>\n",
       "      <td>NaN</td>\n",
       "      <td>NaN</td>\n",
       "      <td>NaN</td>\n",
       "      <td>4113421</td>\n",
       "      <td>Box Truck</td>\n",
       "      <td>NaN</td>\n",
       "      <td>NaN</td>\n",
       "      <td>NaN</td>\n",
       "      <td>NaN</td>\n",
       "    </tr>\n",
       "    <tr>\n",
       "      <th>15</th>\n",
       "      <td>04/27/2019</td>\n",
       "      <td>8:40</td>\n",
       "      <td>BROOKLYN</td>\n",
       "      <td>11209</td>\n",
       "      <td>40.631930</td>\n",
       "      <td>-74.036440</td>\n",
       "      <td>POINT (-74.03644 40.63193)</td>\n",
       "      <td>77 STREET</td>\n",
       "      <td>NARROWS AVENUE</td>\n",
       "      <td>NaN</td>\n",
       "      <td>...</td>\n",
       "      <td>Unspecified</td>\n",
       "      <td>Unspecified</td>\n",
       "      <td>NaN</td>\n",
       "      <td>NaN</td>\n",
       "      <td>4121436</td>\n",
       "      <td>Station Wagon/Sport Utility Vehicle</td>\n",
       "      <td>Station Wagon/Sport Utility Vehicle</td>\n",
       "      <td>Station Wagon/Sport Utility Vehicle</td>\n",
       "      <td>NaN</td>\n",
       "      <td>NaN</td>\n",
       "    </tr>\n",
       "    <tr>\n",
       "      <th>17</th>\n",
       "      <td>04/25/2019</td>\n",
       "      <td>18:32</td>\n",
       "      <td>BROOKLYN</td>\n",
       "      <td>11233</td>\n",
       "      <td>40.675686</td>\n",
       "      <td>-73.913780</td>\n",
       "      <td>POINT (-73.91378 40.675686)</td>\n",
       "      <td>BOYLAND STREET</td>\n",
       "      <td>PACIFIC STREET</td>\n",
       "      <td>NaN</td>\n",
       "      <td>...</td>\n",
       "      <td>Unspecified</td>\n",
       "      <td>NaN</td>\n",
       "      <td>NaN</td>\n",
       "      <td>NaN</td>\n",
       "      <td>4121932</td>\n",
       "      <td>Sedan</td>\n",
       "      <td>Sedan</td>\n",
       "      <td>NaN</td>\n",
       "      <td>NaN</td>\n",
       "      <td>NaN</td>\n",
       "    </tr>\n",
       "  </tbody>\n",
       "</table>\n",
       "<p>5 rows × 29 columns</p>\n",
       "</div>"
      ],
      "text/plain": [
       "   ACCIDENT DATE ACCIDENT TIME   BOROUGH ZIP CODE   LATITUDE  LONGITUDE  \\\n",
       "1     04/27/2019          5:20  BROOKLYN    11235  40.592213 -73.932556   \n",
       "6     04/02/2019         11:00  BROOKLYN    11221  40.686390 -73.942470   \n",
       "12    04/12/2019         14:00  BROOKLYN    11203  40.654102 -73.930660   \n",
       "15    04/27/2019          8:40  BROOKLYN    11209  40.631930 -74.036440   \n",
       "17    04/25/2019         18:32  BROOKLYN    11233  40.675686 -73.913780   \n",
       "\n",
       "                        LOCATION                    ON STREET NAME  \\\n",
       "1   POINT (-73.932556 40.592213)                               NaN   \n",
       "6     POINT (-73.94247 40.68639)                               NaN   \n",
       "12   POINT (-73.93066 40.654102)                               NaN   \n",
       "15    POINT (-74.03644 40.63193)  77 STREET                          \n",
       "17   POINT (-73.91378 40.675686)  BOYLAND STREET                     \n",
       "\n",
       "   CROSS STREET NAME                           OFF STREET NAME  ...  \\\n",
       "1                NaN  2501      KNAPP STREET                    ...   \n",
       "6                NaN  404       MONROE STREET                   ...   \n",
       "12               NaN  790       UTICA AVENUE                    ...   \n",
       "15    NARROWS AVENUE                                       NaN  ...   \n",
       "17    PACIFIC STREET                                       NaN  ...   \n",
       "\n",
       "    CONTRIBUTING FACTOR VEHICLE 2  CONTRIBUTING FACTOR VEHICLE 3  \\\n",
       "1                     Unspecified                            NaN   \n",
       "6                     Unspecified                            NaN   \n",
       "12                            NaN                            NaN   \n",
       "15                    Unspecified                    Unspecified   \n",
       "17                    Unspecified                            NaN   \n",
       "\n",
       "    CONTRIBUTING FACTOR VEHICLE 4  CONTRIBUTING FACTOR VEHICLE 5  \\\n",
       "1                             NaN                            NaN   \n",
       "6                             NaN                            NaN   \n",
       "12                            NaN                            NaN   \n",
       "15                            NaN                            NaN   \n",
       "17                            NaN                            NaN   \n",
       "\n",
       "    COLLISION_ID                  VEHICLE TYPE CODE 1  \\\n",
       "1        4122270                                Sedan   \n",
       "6        4107489                                Sedan   \n",
       "12       4113421                            Box Truck   \n",
       "15       4121436  Station Wagon/Sport Utility Vehicle   \n",
       "17       4121932                                Sedan   \n",
       "\n",
       "                    VEHICLE TYPE CODE 2                  VEHICLE TYPE CODE 3  \\\n",
       "1                                 Sedan                                  NaN   \n",
       "6                                   NaN                                  NaN   \n",
       "12                                  NaN                                  NaN   \n",
       "15  Station Wagon/Sport Utility Vehicle  Station Wagon/Sport Utility Vehicle   \n",
       "17                                Sedan                                  NaN   \n",
       "\n",
       "   VEHICLE TYPE CODE 4 VEHICLE TYPE CODE 5  \n",
       "1                  NaN                 NaN  \n",
       "6                  NaN                 NaN  \n",
       "12                 NaN                 NaN  \n",
       "15                 NaN                 NaN  \n",
       "17                 NaN                 NaN  \n",
       "\n",
       "[5 rows x 29 columns]"
      ]
     },
     "execution_count": 222,
     "metadata": {},
     "output_type": "execute_result"
    }
   ],
   "source": [
    "df_filtered.head()"
   ]
  },
  {
   "cell_type": "code",
   "execution_count": 223,
   "metadata": {},
   "outputs": [
    {
     "data": {
      "text/plain": [
       "Index(['ACCIDENT DATE', 'ACCIDENT TIME', 'BOROUGH', 'ZIP CODE', 'LATITUDE',\n",
       "       'LONGITUDE', 'LOCATION', 'ON STREET NAME', 'CROSS STREET NAME',\n",
       "       'OFF STREET NAME', 'NUMBER OF PERSONS INJURED',\n",
       "       'NUMBER OF PERSONS KILLED', 'NUMBER OF PEDESTRIANS INJURED',\n",
       "       'NUMBER OF PEDESTRIANS KILLED', 'NUMBER OF CYCLIST INJURED',\n",
       "       'NUMBER OF CYCLIST KILLED', 'NUMBER OF MOTORIST INJURED',\n",
       "       'NUMBER OF MOTORIST KILLED', 'CONTRIBUTING FACTOR VEHICLE 1',\n",
       "       'CONTRIBUTING FACTOR VEHICLE 2', 'CONTRIBUTING FACTOR VEHICLE 3',\n",
       "       'CONTRIBUTING FACTOR VEHICLE 4', 'CONTRIBUTING FACTOR VEHICLE 5',\n",
       "       'COLLISION_ID', 'VEHICLE TYPE CODE 1', 'VEHICLE TYPE CODE 2',\n",
       "       'VEHICLE TYPE CODE 3', 'VEHICLE TYPE CODE 4', 'VEHICLE TYPE CODE 5'],\n",
       "      dtype='object')"
      ]
     },
     "execution_count": 223,
     "metadata": {},
     "output_type": "execute_result"
    }
   ],
   "source": [
    "t.columns"
   ]
  },
  {
   "cell_type": "code",
   "execution_count": 224,
   "metadata": {},
   "outputs": [
    {
     "data": {
      "text/plain": [
       "(592, 30)"
      ]
     },
     "execution_count": 224,
     "metadata": {},
     "output_type": "execute_result"
    }
   ],
   "source": [
    "df_map = t.copy()\n",
    "\n",
    "df_map['count'] = 1\n",
    "df_map[['LATITUDE', 'LONGITUDE', 'count']] \\\n",
    "    .groupby(['LATITUDE', 'LONGITUDE']) \\\n",
    "    .sum() \\\n",
    "    .sort_values('count', ascending=False) \\\n",
    "    .head(10)\n",
    "\n",
    "df_map.shape"
   ]
  },
  {
   "cell_type": "code",
   "execution_count": 230,
   "metadata": {},
   "outputs": [
    {
     "data": {
      "text/html": [
       "<div style=\"width:100%;\"><div style=\"position:relative;width:100%;height:0;padding-bottom:60%;\"><iframe src=\"data:text/html;charset=utf-8;base64,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\" style=\"position:absolute;width:100%;height:100%;left:0;top:0;border:none !important;\" allowfullscreen webkitallowfullscreen mozallowfullscreen></iframe></div></div>"
      ],
      "text/plain": [
       "<folium.folium.Map at 0x25e3bb34b38>"
      ]
     },
     "metadata": {},
     "output_type": "display_data"
    }
   ],
   "source": [
    "def generateBaseMap(default_location=[40.672765, -73.961033], default_zoom_start=12):\n",
    "    base_map = folium.Map(location=default_location, control_scale=True, zoom_start=default_zoom_start)\n",
    "    return base_map\n",
    "\n",
    "base_map = generateBaseMap()\n",
    "m = HeatMap(\n",
    "        data = df_map[['LATITUDE', 'LONGITUDE', 'count']].groupby(['LATITUDE','LONGITUDE']).sum().reset_index().values.tolist() \\\n",
    "        , radius=7 \\\n",
    "        , max_zoom=5\n",
    "    ).add_to(base_map)\n",
    "m.save('../img/heatmapmv.html')\n",
    "display(base_map)"
   ]
  }
 ],
 "metadata": {
  "kernelspec": {
   "display_name": "Python 3",
   "language": "python",
   "name": "python3"
  },
  "language_info": {
   "codemirror_mode": {
    "name": "ipython",
    "version": 3
   },
   "file_extension": ".py",
   "mimetype": "text/x-python",
   "name": "python",
   "nbconvert_exporter": "python",
   "pygments_lexer": "ipython3",
   "version": "3.7.3"
  }
 },
 "nbformat": 4,
 "nbformat_minor": 2
}
